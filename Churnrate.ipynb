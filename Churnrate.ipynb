{
  "nbformat": 4,
  "nbformat_minor": 0,
  "metadata": {
    "colab": {
      "name": "Churnrate.ipynb",
      "provenance": [],
      "collapsed_sections": [],
      "include_colab_link": true
    },
    "kernelspec": {
      "name": "python3",
      "display_name": "Python 3"
    },
    "accelerator": "GPU"
  },
  "cells": [
    {
      "cell_type": "markdown",
      "metadata": {
        "id": "view-in-github",
        "colab_type": "text"
      },
      "source": [
        "<a href=\"https://colab.research.google.com/github/pammehta2017/project/blob/master/Churnrate.ipynb\" target=\"_parent\"><img src=\"https://colab.research.google.com/assets/colab-badge.svg\" alt=\"Open In Colab\"/></a>"
      ]
    },
    {
      "cell_type": "code",
      "metadata": {
        "id": "LP1iYBYnEreu"
      },
      "source": [
        "import pandas as pd\n",
        "import numpy as np\n",
        "import warnings\n",
        "warnings.filterwarnings('ignore')"
      ],
      "execution_count": 1,
      "outputs": []
    },
    {
      "cell_type": "code",
      "metadata": {
        "id": "SI5qbd7AHQ7H"
      },
      "source": [
        "df= pd.read_csv('Hiring_Challenge(11).csv')"
      ],
      "execution_count": 2,
      "outputs": []
    },
    {
      "cell_type": "code",
      "metadata": {
        "id": "MZCGkxvdHey-",
        "colab": {
          "base_uri": "https://localhost:8080/",
          "height": 202
        },
        "outputId": "bb08c931-90ed-424b-85e0-33ce755c9eb8"
      },
      "source": [
        "#check the head of the data\n",
        "df.head()"
      ],
      "execution_count": 3,
      "outputs": [
        {
          "output_type": "execute_result",
          "data": {
            "text/html": [
              "<div>\n",
              "<style scoped>\n",
              "    .dataframe tbody tr th:only-of-type {\n",
              "        vertical-align: middle;\n",
              "    }\n",
              "\n",
              "    .dataframe tbody tr th {\n",
              "        vertical-align: top;\n",
              "    }\n",
              "\n",
              "    .dataframe thead th {\n",
              "        text-align: right;\n",
              "    }\n",
              "</style>\n",
              "<table border=\"1\" class=\"dataframe\">\n",
              "  <thead>\n",
              "    <tr style=\"text-align: right;\">\n",
              "      <th></th>\n",
              "      <th>C1</th>\n",
              "      <th>C2</th>\n",
              "      <th>C3</th>\n",
              "      <th>C4</th>\n",
              "      <th>C5</th>\n",
              "      <th>C6</th>\n",
              "      <th>C7</th>\n",
              "      <th>C8</th>\n",
              "      <th>C9</th>\n",
              "      <th>C10</th>\n",
              "      <th>C11</th>\n",
              "      <th>C12</th>\n",
              "      <th>C13</th>\n",
              "      <th>C14</th>\n",
              "      <th>C15</th>\n",
              "      <th>Hired</th>\n",
              "    </tr>\n",
              "  </thead>\n",
              "  <tbody>\n",
              "    <tr>\n",
              "      <th>0</th>\n",
              "      <td>a</td>\n",
              "      <td>71.58</td>\n",
              "      <td>0.0</td>\n",
              "      <td>u</td>\n",
              "      <td>g</td>\n",
              "      <td>c</td>\n",
              "      <td>v</td>\n",
              "      <td>0.0</td>\n",
              "      <td>f</td>\n",
              "      <td>f</td>\n",
              "      <td>0</td>\n",
              "      <td>f</td>\n",
              "      <td>p</td>\n",
              "      <td>184.014771</td>\n",
              "      <td>0</td>\n",
              "      <td>1</td>\n",
              "    </tr>\n",
              "    <tr>\n",
              "      <th>1</th>\n",
              "      <td>b</td>\n",
              "      <td>37.58</td>\n",
              "      <td>0.0</td>\n",
              "      <td>u</td>\n",
              "      <td>g</td>\n",
              "      <td>c</td>\n",
              "      <td>v</td>\n",
              "      <td>0.0</td>\n",
              "      <td>f</td>\n",
              "      <td>f</td>\n",
              "      <td>0</td>\n",
              "      <td>f</td>\n",
              "      <td>p</td>\n",
              "      <td>184.014771</td>\n",
              "      <td>0</td>\n",
              "      <td>1</td>\n",
              "    </tr>\n",
              "    <tr>\n",
              "      <th>2</th>\n",
              "      <td>b</td>\n",
              "      <td>20.42</td>\n",
              "      <td>0.0</td>\n",
              "      <td>u</td>\n",
              "      <td>g</td>\n",
              "      <td>c</td>\n",
              "      <td>v</td>\n",
              "      <td>0.0</td>\n",
              "      <td>f</td>\n",
              "      <td>f</td>\n",
              "      <td>0</td>\n",
              "      <td>f</td>\n",
              "      <td>p</td>\n",
              "      <td>184.014771</td>\n",
              "      <td>0</td>\n",
              "      <td>0</td>\n",
              "    </tr>\n",
              "    <tr>\n",
              "      <th>3</th>\n",
              "      <td>b</td>\n",
              "      <td>34.58</td>\n",
              "      <td>0.0</td>\n",
              "      <td>u</td>\n",
              "      <td>g</td>\n",
              "      <td>c</td>\n",
              "      <td>v</td>\n",
              "      <td>0.0</td>\n",
              "      <td>f</td>\n",
              "      <td>f</td>\n",
              "      <td>0</td>\n",
              "      <td>f</td>\n",
              "      <td>p</td>\n",
              "      <td>184.014771</td>\n",
              "      <td>0</td>\n",
              "      <td>0</td>\n",
              "    </tr>\n",
              "    <tr>\n",
              "      <th>4</th>\n",
              "      <td>b</td>\n",
              "      <td>23.17</td>\n",
              "      <td>0.0</td>\n",
              "      <td>u</td>\n",
              "      <td>g</td>\n",
              "      <td>c</td>\n",
              "      <td>v</td>\n",
              "      <td>0.0</td>\n",
              "      <td>f</td>\n",
              "      <td>f</td>\n",
              "      <td>0</td>\n",
              "      <td>f</td>\n",
              "      <td>p</td>\n",
              "      <td>184.014771</td>\n",
              "      <td>0</td>\n",
              "      <td>1</td>\n",
              "    </tr>\n",
              "  </tbody>\n",
              "</table>\n",
              "</div>"
            ],
            "text/plain": [
              "  C1     C2   C3 C4 C5 C6 C7   C8 C9 C10  C11 C12 C13         C14  C15  Hired\n",
              "0  a  71.58  0.0  u  g  c  v  0.0  f   f    0   f   p  184.014771    0      1\n",
              "1  b  37.58  0.0  u  g  c  v  0.0  f   f    0   f   p  184.014771    0      1\n",
              "2  b  20.42  0.0  u  g  c  v  0.0  f   f    0   f   p  184.014771    0      0\n",
              "3  b  34.58  0.0  u  g  c  v  0.0  f   f    0   f   p  184.014771    0      0\n",
              "4  b  23.17  0.0  u  g  c  v  0.0  f   f    0   f   p  184.014771    0      1"
            ]
          },
          "metadata": {
            "tags": []
          },
          "execution_count": 3
        }
      ]
    },
    {
      "cell_type": "code",
      "metadata": {
        "id": "T_f0x3HoHojo",
        "colab": {
          "base_uri": "https://localhost:8080/"
        },
        "outputId": "911e0c0f-5269-4491-8974-7aa21fb29429"
      },
      "source": [
        "df.columns"
      ],
      "execution_count": 4,
      "outputs": [
        {
          "output_type": "execute_result",
          "data": {
            "text/plain": [
              "Index(['C1', 'C2', 'C3', 'C4', 'C5', 'C6', 'C7', 'C8', 'C9', 'C10', 'C11',\n",
              "       'C12', 'C13', 'C14', 'C15', 'Hired'],\n",
              "      dtype='object')"
            ]
          },
          "metadata": {
            "tags": []
          },
          "execution_count": 4
        }
      ]
    },
    {
      "cell_type": "code",
      "metadata": {
        "id": "4ungEvPGuZSJ"
      },
      "source": [
        "# dropping columns with same pattern\r\n",
        "df.drop('C5', axis= 1, inplace= True  )"
      ],
      "execution_count": 5,
      "outputs": []
    },
    {
      "cell_type": "code",
      "metadata": {
        "colab": {
          "base_uri": "https://localhost:8080/"
        },
        "id": "WK9HAvLAvCNb",
        "outputId": "57c287cc-5647-46f9-c098-9b795eafc6c9"
      },
      "source": [
        "df.info()"
      ],
      "execution_count": 6,
      "outputs": [
        {
          "output_type": "stream",
          "text": [
            "<class 'pandas.core.frame.DataFrame'>\n",
            "RangeIndex: 690 entries, 0 to 689\n",
            "Data columns (total 15 columns):\n",
            " #   Column  Non-Null Count  Dtype  \n",
            "---  ------  --------------  -----  \n",
            " 0   C1      690 non-null    object \n",
            " 1   C2      690 non-null    float64\n",
            " 2   C3      690 non-null    float64\n",
            " 3   C4      690 non-null    object \n",
            " 4   C6      690 non-null    object \n",
            " 5   C7      690 non-null    object \n",
            " 6   C8      690 non-null    float64\n",
            " 7   C9      690 non-null    object \n",
            " 8   C10     690 non-null    object \n",
            " 9   C11     690 non-null    int64  \n",
            " 10  C12     690 non-null    object \n",
            " 11  C13     690 non-null    object \n",
            " 12  C14     690 non-null    float64\n",
            " 13  C15     690 non-null    int64  \n",
            " 14  Hired   690 non-null    int64  \n",
            "dtypes: float64(4), int64(3), object(8)\n",
            "memory usage: 81.0+ KB\n"
          ],
          "name": "stdout"
        }
      ]
    },
    {
      "cell_type": "code",
      "metadata": {
        "colab": {
          "base_uri": "https://localhost:8080/"
        },
        "id": "ec9GZvemvJV-",
        "outputId": "47cd6b5f-ded2-486e-b9b5-8936681a4a0d"
      },
      "source": [
        "# check to see if there is any null or nan value\r\n",
        "df.isnull().any().sum()"
      ],
      "execution_count": 7,
      "outputs": [
        {
          "output_type": "execute_result",
          "data": {
            "text/plain": [
              "0"
            ]
          },
          "metadata": {
            "tags": []
          },
          "execution_count": 7
        }
      ]
    },
    {
      "cell_type": "code",
      "metadata": {
        "colab": {
          "base_uri": "https://localhost:8080/",
          "height": 294
        },
        "id": "sB-cFzwAvxeg",
        "outputId": "94bc6e5d-e2d3-441f-8b53-537ebf7db8ee"
      },
      "source": [
        "df.describe()"
      ],
      "execution_count": 8,
      "outputs": [
        {
          "output_type": "execute_result",
          "data": {
            "text/html": [
              "<div>\n",
              "<style scoped>\n",
              "    .dataframe tbody tr th:only-of-type {\n",
              "        vertical-align: middle;\n",
              "    }\n",
              "\n",
              "    .dataframe tbody tr th {\n",
              "        vertical-align: top;\n",
              "    }\n",
              "\n",
              "    .dataframe thead th {\n",
              "        text-align: right;\n",
              "    }\n",
              "</style>\n",
              "<table border=\"1\" class=\"dataframe\">\n",
              "  <thead>\n",
              "    <tr style=\"text-align: right;\">\n",
              "      <th></th>\n",
              "      <th>C2</th>\n",
              "      <th>C3</th>\n",
              "      <th>C8</th>\n",
              "      <th>C11</th>\n",
              "      <th>C14</th>\n",
              "      <th>C15</th>\n",
              "      <th>Hired</th>\n",
              "    </tr>\n",
              "  </thead>\n",
              "  <tbody>\n",
              "    <tr>\n",
              "      <th>count</th>\n",
              "      <td>690.000000</td>\n",
              "      <td>690.000000</td>\n",
              "      <td>690.000000</td>\n",
              "      <td>690.00000</td>\n",
              "      <td>690.000000</td>\n",
              "      <td>690.000000</td>\n",
              "      <td>690.000000</td>\n",
              "    </tr>\n",
              "    <tr>\n",
              "      <th>mean</th>\n",
              "      <td>31.568171</td>\n",
              "      <td>4.758725</td>\n",
              "      <td>2.223406</td>\n",
              "      <td>2.40000</td>\n",
              "      <td>184.014771</td>\n",
              "      <td>1017.385507</td>\n",
              "      <td>0.444928</td>\n",
              "    </tr>\n",
              "    <tr>\n",
              "      <th>std</th>\n",
              "      <td>11.853273</td>\n",
              "      <td>4.978163</td>\n",
              "      <td>3.346513</td>\n",
              "      <td>4.86294</td>\n",
              "      <td>172.159274</td>\n",
              "      <td>5210.102598</td>\n",
              "      <td>0.497318</td>\n",
              "    </tr>\n",
              "    <tr>\n",
              "      <th>min</th>\n",
              "      <td>13.750000</td>\n",
              "      <td>0.000000</td>\n",
              "      <td>0.000000</td>\n",
              "      <td>0.00000</td>\n",
              "      <td>0.000000</td>\n",
              "      <td>0.000000</td>\n",
              "      <td>0.000000</td>\n",
              "    </tr>\n",
              "    <tr>\n",
              "      <th>25%</th>\n",
              "      <td>22.670000</td>\n",
              "      <td>1.000000</td>\n",
              "      <td>0.165000</td>\n",
              "      <td>0.00000</td>\n",
              "      <td>80.000000</td>\n",
              "      <td>0.000000</td>\n",
              "      <td>0.000000</td>\n",
              "    </tr>\n",
              "    <tr>\n",
              "      <th>50%</th>\n",
              "      <td>28.625000</td>\n",
              "      <td>2.750000</td>\n",
              "      <td>1.000000</td>\n",
              "      <td>0.00000</td>\n",
              "      <td>160.000000</td>\n",
              "      <td>5.000000</td>\n",
              "      <td>0.000000</td>\n",
              "    </tr>\n",
              "    <tr>\n",
              "      <th>75%</th>\n",
              "      <td>37.707500</td>\n",
              "      <td>7.207500</td>\n",
              "      <td>2.625000</td>\n",
              "      <td>3.00000</td>\n",
              "      <td>272.000000</td>\n",
              "      <td>395.500000</td>\n",
              "      <td>1.000000</td>\n",
              "    </tr>\n",
              "    <tr>\n",
              "      <th>max</th>\n",
              "      <td>80.250000</td>\n",
              "      <td>28.000000</td>\n",
              "      <td>28.500000</td>\n",
              "      <td>67.00000</td>\n",
              "      <td>2000.000000</td>\n",
              "      <td>100000.000000</td>\n",
              "      <td>1.000000</td>\n",
              "    </tr>\n",
              "  </tbody>\n",
              "</table>\n",
              "</div>"
            ],
            "text/plain": [
              "               C2          C3  ...            C15       Hired\n",
              "count  690.000000  690.000000  ...     690.000000  690.000000\n",
              "mean    31.568171    4.758725  ...    1017.385507    0.444928\n",
              "std     11.853273    4.978163  ...    5210.102598    0.497318\n",
              "min     13.750000    0.000000  ...       0.000000    0.000000\n",
              "25%     22.670000    1.000000  ...       0.000000    0.000000\n",
              "50%     28.625000    2.750000  ...       5.000000    0.000000\n",
              "75%     37.707500    7.207500  ...     395.500000    1.000000\n",
              "max     80.250000   28.000000  ...  100000.000000    1.000000\n",
              "\n",
              "[8 rows x 7 columns]"
            ]
          },
          "metadata": {
            "tags": []
          },
          "execution_count": 8
        }
      ]
    },
    {
      "cell_type": "code",
      "metadata": {
        "colab": {
          "base_uri": "https://localhost:8080/",
          "height": 263
        },
        "id": "boPJuwLcv9-b",
        "outputId": "d0cb9591-47c5-4c1c-c18a-797981ab0f4a"
      },
      "source": [
        "df.corr()"
      ],
      "execution_count": 9,
      "outputs": [
        {
          "output_type": "execute_result",
          "data": {
            "text/html": [
              "<div>\n",
              "<style scoped>\n",
              "    .dataframe tbody tr th:only-of-type {\n",
              "        vertical-align: middle;\n",
              "    }\n",
              "\n",
              "    .dataframe tbody tr th {\n",
              "        vertical-align: top;\n",
              "    }\n",
              "\n",
              "    .dataframe thead th {\n",
              "        text-align: right;\n",
              "    }\n",
              "</style>\n",
              "<table border=\"1\" class=\"dataframe\">\n",
              "  <thead>\n",
              "    <tr style=\"text-align: right;\">\n",
              "      <th></th>\n",
              "      <th>C2</th>\n",
              "      <th>C3</th>\n",
              "      <th>C8</th>\n",
              "      <th>C11</th>\n",
              "      <th>C14</th>\n",
              "      <th>C15</th>\n",
              "      <th>Hired</th>\n",
              "    </tr>\n",
              "  </thead>\n",
              "  <tbody>\n",
              "    <tr>\n",
              "      <th>C2</th>\n",
              "      <td>1.000000</td>\n",
              "      <td>0.201316</td>\n",
              "      <td>0.392787</td>\n",
              "      <td>0.185575</td>\n",
              "      <td>-0.077161</td>\n",
              "      <td>0.018539</td>\n",
              "      <td>0.161627</td>\n",
              "    </tr>\n",
              "    <tr>\n",
              "      <th>C3</th>\n",
              "      <td>0.201316</td>\n",
              "      <td>1.000000</td>\n",
              "      <td>0.298902</td>\n",
              "      <td>0.271207</td>\n",
              "      <td>-0.222346</td>\n",
              "      <td>0.123121</td>\n",
              "      <td>0.206294</td>\n",
              "    </tr>\n",
              "    <tr>\n",
              "      <th>C8</th>\n",
              "      <td>0.392787</td>\n",
              "      <td>0.298902</td>\n",
              "      <td>1.000000</td>\n",
              "      <td>0.322330</td>\n",
              "      <td>-0.076389</td>\n",
              "      <td>0.051345</td>\n",
              "      <td>0.322475</td>\n",
              "    </tr>\n",
              "    <tr>\n",
              "      <th>C11</th>\n",
              "      <td>0.185575</td>\n",
              "      <td>0.271207</td>\n",
              "      <td>0.322330</td>\n",
              "      <td>1.000000</td>\n",
              "      <td>-0.119809</td>\n",
              "      <td>0.063692</td>\n",
              "      <td>0.406410</td>\n",
              "    </tr>\n",
              "    <tr>\n",
              "      <th>C14</th>\n",
              "      <td>-0.077161</td>\n",
              "      <td>-0.222346</td>\n",
              "      <td>-0.076389</td>\n",
              "      <td>-0.119809</td>\n",
              "      <td>1.000000</td>\n",
              "      <td>0.065609</td>\n",
              "      <td>-0.099972</td>\n",
              "    </tr>\n",
              "    <tr>\n",
              "      <th>C15</th>\n",
              "      <td>0.018539</td>\n",
              "      <td>0.123121</td>\n",
              "      <td>0.051345</td>\n",
              "      <td>0.063692</td>\n",
              "      <td>0.065609</td>\n",
              "      <td>1.000000</td>\n",
              "      <td>0.175657</td>\n",
              "    </tr>\n",
              "    <tr>\n",
              "      <th>Hired</th>\n",
              "      <td>0.161627</td>\n",
              "      <td>0.206294</td>\n",
              "      <td>0.322475</td>\n",
              "      <td>0.406410</td>\n",
              "      <td>-0.099972</td>\n",
              "      <td>0.175657</td>\n",
              "      <td>1.000000</td>\n",
              "    </tr>\n",
              "  </tbody>\n",
              "</table>\n",
              "</div>"
            ],
            "text/plain": [
              "             C2        C3        C8       C11       C14       C15     Hired\n",
              "C2     1.000000  0.201316  0.392787  0.185575 -0.077161  0.018539  0.161627\n",
              "C3     0.201316  1.000000  0.298902  0.271207 -0.222346  0.123121  0.206294\n",
              "C8     0.392787  0.298902  1.000000  0.322330 -0.076389  0.051345  0.322475\n",
              "C11    0.185575  0.271207  0.322330  1.000000 -0.119809  0.063692  0.406410\n",
              "C14   -0.077161 -0.222346 -0.076389 -0.119809  1.000000  0.065609 -0.099972\n",
              "C15    0.018539  0.123121  0.051345  0.063692  0.065609  1.000000  0.175657\n",
              "Hired  0.161627  0.206294  0.322475  0.406410 -0.099972  0.175657  1.000000"
            ]
          },
          "metadata": {
            "tags": []
          },
          "execution_count": 9
        }
      ]
    },
    {
      "cell_type": "code",
      "metadata": {
        "id": "p02qq2cNwNb5"
      },
      "source": [
        "df = pd.get_dummies(df)"
      ],
      "execution_count": 10,
      "outputs": []
    },
    {
      "cell_type": "code",
      "metadata": {
        "colab": {
          "base_uri": "https://localhost:8080/",
          "height": 222
        },
        "id": "zw18i1CWwd9I",
        "outputId": "c16bef64-9356-4d0c-e608-f89e565e29a3"
      },
      "source": [
        "df.head()"
      ],
      "execution_count": 11,
      "outputs": [
        {
          "output_type": "execute_result",
          "data": {
            "text/html": [
              "<div>\n",
              "<style scoped>\n",
              "    .dataframe tbody tr th:only-of-type {\n",
              "        vertical-align: middle;\n",
              "    }\n",
              "\n",
              "    .dataframe tbody tr th {\n",
              "        vertical-align: top;\n",
              "    }\n",
              "\n",
              "    .dataframe thead th {\n",
              "        text-align: right;\n",
              "    }\n",
              "</style>\n",
              "<table border=\"1\" class=\"dataframe\">\n",
              "  <thead>\n",
              "    <tr style=\"text-align: right;\">\n",
              "      <th></th>\n",
              "      <th>C2</th>\n",
              "      <th>C3</th>\n",
              "      <th>C8</th>\n",
              "      <th>C11</th>\n",
              "      <th>C14</th>\n",
              "      <th>C15</th>\n",
              "      <th>Hired</th>\n",
              "      <th>C1_a</th>\n",
              "      <th>C1_b</th>\n",
              "      <th>C4_l</th>\n",
              "      <th>C4_u</th>\n",
              "      <th>C4_y</th>\n",
              "      <th>C6_aa</th>\n",
              "      <th>C6_c</th>\n",
              "      <th>C6_cc</th>\n",
              "      <th>C6_d</th>\n",
              "      <th>C6_e</th>\n",
              "      <th>C6_ff</th>\n",
              "      <th>C6_i</th>\n",
              "      <th>C6_j</th>\n",
              "      <th>C6_k</th>\n",
              "      <th>C6_m</th>\n",
              "      <th>C6_q</th>\n",
              "      <th>C6_r</th>\n",
              "      <th>C6_w</th>\n",
              "      <th>C6_x</th>\n",
              "      <th>C7_bb</th>\n",
              "      <th>C7_dd</th>\n",
              "      <th>C7_ff</th>\n",
              "      <th>C7_h</th>\n",
              "      <th>C7_j</th>\n",
              "      <th>C7_n</th>\n",
              "      <th>C7_o</th>\n",
              "      <th>C7_v</th>\n",
              "      <th>C7_z</th>\n",
              "      <th>C9_f</th>\n",
              "      <th>C9_t</th>\n",
              "      <th>C10_f</th>\n",
              "      <th>C10_t</th>\n",
              "      <th>C12_f</th>\n",
              "      <th>C12_t</th>\n",
              "      <th>C13_g</th>\n",
              "      <th>C13_p</th>\n",
              "      <th>C13_s</th>\n",
              "    </tr>\n",
              "  </thead>\n",
              "  <tbody>\n",
              "    <tr>\n",
              "      <th>0</th>\n",
              "      <td>71.58</td>\n",
              "      <td>0.0</td>\n",
              "      <td>0.0</td>\n",
              "      <td>0</td>\n",
              "      <td>184.014771</td>\n",
              "      <td>0</td>\n",
              "      <td>1</td>\n",
              "      <td>1</td>\n",
              "      <td>0</td>\n",
              "      <td>0</td>\n",
              "      <td>1</td>\n",
              "      <td>0</td>\n",
              "      <td>0</td>\n",
              "      <td>1</td>\n",
              "      <td>0</td>\n",
              "      <td>0</td>\n",
              "      <td>0</td>\n",
              "      <td>0</td>\n",
              "      <td>0</td>\n",
              "      <td>0</td>\n",
              "      <td>0</td>\n",
              "      <td>0</td>\n",
              "      <td>0</td>\n",
              "      <td>0</td>\n",
              "      <td>0</td>\n",
              "      <td>0</td>\n",
              "      <td>0</td>\n",
              "      <td>0</td>\n",
              "      <td>0</td>\n",
              "      <td>0</td>\n",
              "      <td>0</td>\n",
              "      <td>0</td>\n",
              "      <td>0</td>\n",
              "      <td>1</td>\n",
              "      <td>0</td>\n",
              "      <td>1</td>\n",
              "      <td>0</td>\n",
              "      <td>1</td>\n",
              "      <td>0</td>\n",
              "      <td>1</td>\n",
              "      <td>0</td>\n",
              "      <td>0</td>\n",
              "      <td>1</td>\n",
              "      <td>0</td>\n",
              "    </tr>\n",
              "    <tr>\n",
              "      <th>1</th>\n",
              "      <td>37.58</td>\n",
              "      <td>0.0</td>\n",
              "      <td>0.0</td>\n",
              "      <td>0</td>\n",
              "      <td>184.014771</td>\n",
              "      <td>0</td>\n",
              "      <td>1</td>\n",
              "      <td>0</td>\n",
              "      <td>1</td>\n",
              "      <td>0</td>\n",
              "      <td>1</td>\n",
              "      <td>0</td>\n",
              "      <td>0</td>\n",
              "      <td>1</td>\n",
              "      <td>0</td>\n",
              "      <td>0</td>\n",
              "      <td>0</td>\n",
              "      <td>0</td>\n",
              "      <td>0</td>\n",
              "      <td>0</td>\n",
              "      <td>0</td>\n",
              "      <td>0</td>\n",
              "      <td>0</td>\n",
              "      <td>0</td>\n",
              "      <td>0</td>\n",
              "      <td>0</td>\n",
              "      <td>0</td>\n",
              "      <td>0</td>\n",
              "      <td>0</td>\n",
              "      <td>0</td>\n",
              "      <td>0</td>\n",
              "      <td>0</td>\n",
              "      <td>0</td>\n",
              "      <td>1</td>\n",
              "      <td>0</td>\n",
              "      <td>1</td>\n",
              "      <td>0</td>\n",
              "      <td>1</td>\n",
              "      <td>0</td>\n",
              "      <td>1</td>\n",
              "      <td>0</td>\n",
              "      <td>0</td>\n",
              "      <td>1</td>\n",
              "      <td>0</td>\n",
              "    </tr>\n",
              "    <tr>\n",
              "      <th>2</th>\n",
              "      <td>20.42</td>\n",
              "      <td>0.0</td>\n",
              "      <td>0.0</td>\n",
              "      <td>0</td>\n",
              "      <td>184.014771</td>\n",
              "      <td>0</td>\n",
              "      <td>0</td>\n",
              "      <td>0</td>\n",
              "      <td>1</td>\n",
              "      <td>0</td>\n",
              "      <td>1</td>\n",
              "      <td>0</td>\n",
              "      <td>0</td>\n",
              "      <td>1</td>\n",
              "      <td>0</td>\n",
              "      <td>0</td>\n",
              "      <td>0</td>\n",
              "      <td>0</td>\n",
              "      <td>0</td>\n",
              "      <td>0</td>\n",
              "      <td>0</td>\n",
              "      <td>0</td>\n",
              "      <td>0</td>\n",
              "      <td>0</td>\n",
              "      <td>0</td>\n",
              "      <td>0</td>\n",
              "      <td>0</td>\n",
              "      <td>0</td>\n",
              "      <td>0</td>\n",
              "      <td>0</td>\n",
              "      <td>0</td>\n",
              "      <td>0</td>\n",
              "      <td>0</td>\n",
              "      <td>1</td>\n",
              "      <td>0</td>\n",
              "      <td>1</td>\n",
              "      <td>0</td>\n",
              "      <td>1</td>\n",
              "      <td>0</td>\n",
              "      <td>1</td>\n",
              "      <td>0</td>\n",
              "      <td>0</td>\n",
              "      <td>1</td>\n",
              "      <td>0</td>\n",
              "    </tr>\n",
              "    <tr>\n",
              "      <th>3</th>\n",
              "      <td>34.58</td>\n",
              "      <td>0.0</td>\n",
              "      <td>0.0</td>\n",
              "      <td>0</td>\n",
              "      <td>184.014771</td>\n",
              "      <td>0</td>\n",
              "      <td>0</td>\n",
              "      <td>0</td>\n",
              "      <td>1</td>\n",
              "      <td>0</td>\n",
              "      <td>1</td>\n",
              "      <td>0</td>\n",
              "      <td>0</td>\n",
              "      <td>1</td>\n",
              "      <td>0</td>\n",
              "      <td>0</td>\n",
              "      <td>0</td>\n",
              "      <td>0</td>\n",
              "      <td>0</td>\n",
              "      <td>0</td>\n",
              "      <td>0</td>\n",
              "      <td>0</td>\n",
              "      <td>0</td>\n",
              "      <td>0</td>\n",
              "      <td>0</td>\n",
              "      <td>0</td>\n",
              "      <td>0</td>\n",
              "      <td>0</td>\n",
              "      <td>0</td>\n",
              "      <td>0</td>\n",
              "      <td>0</td>\n",
              "      <td>0</td>\n",
              "      <td>0</td>\n",
              "      <td>1</td>\n",
              "      <td>0</td>\n",
              "      <td>1</td>\n",
              "      <td>0</td>\n",
              "      <td>1</td>\n",
              "      <td>0</td>\n",
              "      <td>1</td>\n",
              "      <td>0</td>\n",
              "      <td>0</td>\n",
              "      <td>1</td>\n",
              "      <td>0</td>\n",
              "    </tr>\n",
              "    <tr>\n",
              "      <th>4</th>\n",
              "      <td>23.17</td>\n",
              "      <td>0.0</td>\n",
              "      <td>0.0</td>\n",
              "      <td>0</td>\n",
              "      <td>184.014771</td>\n",
              "      <td>0</td>\n",
              "      <td>1</td>\n",
              "      <td>0</td>\n",
              "      <td>1</td>\n",
              "      <td>0</td>\n",
              "      <td>1</td>\n",
              "      <td>0</td>\n",
              "      <td>0</td>\n",
              "      <td>1</td>\n",
              "      <td>0</td>\n",
              "      <td>0</td>\n",
              "      <td>0</td>\n",
              "      <td>0</td>\n",
              "      <td>0</td>\n",
              "      <td>0</td>\n",
              "      <td>0</td>\n",
              "      <td>0</td>\n",
              "      <td>0</td>\n",
              "      <td>0</td>\n",
              "      <td>0</td>\n",
              "      <td>0</td>\n",
              "      <td>0</td>\n",
              "      <td>0</td>\n",
              "      <td>0</td>\n",
              "      <td>0</td>\n",
              "      <td>0</td>\n",
              "      <td>0</td>\n",
              "      <td>0</td>\n",
              "      <td>1</td>\n",
              "      <td>0</td>\n",
              "      <td>1</td>\n",
              "      <td>0</td>\n",
              "      <td>1</td>\n",
              "      <td>0</td>\n",
              "      <td>1</td>\n",
              "      <td>0</td>\n",
              "      <td>0</td>\n",
              "      <td>1</td>\n",
              "      <td>0</td>\n",
              "    </tr>\n",
              "  </tbody>\n",
              "</table>\n",
              "</div>"
            ],
            "text/plain": [
              "      C2   C3   C8  C11         C14  ...  C12_f  C12_t  C13_g  C13_p  C13_s\n",
              "0  71.58  0.0  0.0    0  184.014771  ...      1      0      0      1      0\n",
              "1  37.58  0.0  0.0    0  184.014771  ...      1      0      0      1      0\n",
              "2  20.42  0.0  0.0    0  184.014771  ...      1      0      0      1      0\n",
              "3  34.58  0.0  0.0    0  184.014771  ...      1      0      0      1      0\n",
              "4  23.17  0.0  0.0    0  184.014771  ...      1      0      0      1      0\n",
              "\n",
              "[5 rows x 44 columns]"
            ]
          },
          "metadata": {
            "tags": []
          },
          "execution_count": 11
        }
      ]
    },
    {
      "cell_type": "code",
      "metadata": {
        "colab": {
          "base_uri": "https://localhost:8080/"
        },
        "id": "TSjWXMb9wuk1",
        "outputId": "534de58f-c6a1-4516-fd18-c98395f1326f"
      },
      "source": [
        "df.dtypes"
      ],
      "execution_count": 12,
      "outputs": [
        {
          "output_type": "execute_result",
          "data": {
            "text/plain": [
              "C2       float64\n",
              "C3       float64\n",
              "C8       float64\n",
              "C11        int64\n",
              "C14      float64\n",
              "C15        int64\n",
              "Hired      int64\n",
              "C1_a       uint8\n",
              "C1_b       uint8\n",
              "C4_l       uint8\n",
              "C4_u       uint8\n",
              "C4_y       uint8\n",
              "C6_aa      uint8\n",
              "C6_c       uint8\n",
              "C6_cc      uint8\n",
              "C6_d       uint8\n",
              "C6_e       uint8\n",
              "C6_ff      uint8\n",
              "C6_i       uint8\n",
              "C6_j       uint8\n",
              "C6_k       uint8\n",
              "C6_m       uint8\n",
              "C6_q       uint8\n",
              "C6_r       uint8\n",
              "C6_w       uint8\n",
              "C6_x       uint8\n",
              "C7_bb      uint8\n",
              "C7_dd      uint8\n",
              "C7_ff      uint8\n",
              "C7_h       uint8\n",
              "C7_j       uint8\n",
              "C7_n       uint8\n",
              "C7_o       uint8\n",
              "C7_v       uint8\n",
              "C7_z       uint8\n",
              "C9_f       uint8\n",
              "C9_t       uint8\n",
              "C10_f      uint8\n",
              "C10_t      uint8\n",
              "C12_f      uint8\n",
              "C12_t      uint8\n",
              "C13_g      uint8\n",
              "C13_p      uint8\n",
              "C13_s      uint8\n",
              "dtype: object"
            ]
          },
          "metadata": {
            "tags": []
          },
          "execution_count": 12
        }
      ]
    },
    {
      "cell_type": "code",
      "metadata": {
        "id": "q2XCxu6Zw3ls"
      },
      "source": [
        "X = df.drop('Hired', axis= 1)\r\n",
        "y = df['Hired']"
      ],
      "execution_count": 13,
      "outputs": []
    },
    {
      "cell_type": "code",
      "metadata": {
        "id": "rKHfU9sUxVYw"
      },
      "source": [
        "from sklearn.ensemble import RandomForestClassifier\r\n",
        "from sklearn.model_selection import train_test_split\r\n",
        "from sklearn.linear_model import LogisticRegression\r\n",
        "from sklearn.metrics import accuracy_score\r\n",
        "from xgboost import XGBClassifier"
      ],
      "execution_count": 14,
      "outputs": []
    },
    {
      "cell_type": "code",
      "metadata": {
        "id": "0R511Q9Cxz7X"
      },
      "source": [
        "X_train, X_test, y_train, y_test = train_test_split(X, y, test_size =0.2, random_state = 0)"
      ],
      "execution_count": 17,
      "outputs": []
    },
    {
      "cell_type": "code",
      "metadata": {
        "id": "Y6MkJa6Jx9YU"
      },
      "source": [
        "model_eval = pd.DataFrame(index= ['Random Forest'], columns =['Score'])"
      ],
      "execution_count": 16,
      "outputs": []
    },
    {
      "cell_type": "code",
      "metadata": {
        "id": "nTzvOWuMye5E"
      },
      "source": [
        "rf = RandomForestClassifier()\r\n",
        "rf.fit(X_train, y_train)\r\n",
        "ypred = rf.predict(X_test)"
      ],
      "execution_count": 23,
      "outputs": []
    },
    {
      "cell_type": "code",
      "metadata": {
        "id": "76b_8eqJy-Xk"
      },
      "source": [
        "log = LogisticRegression()\r\n",
        "log.fit(X_train, y_train)\r\n",
        "ypred2 = log.predict(X_test)"
      ],
      "execution_count": 24,
      "outputs": []
    },
    {
      "cell_type": "code",
      "metadata": {
        "id": "ZJtplGL5zLkn"
      },
      "source": [
        "xg = XGBClassifier()\r\n",
        "xg.fit(X_train, y_train)\r\n",
        "ypred3 = xg.predict(X_test)"
      ],
      "execution_count": 25,
      "outputs": []
    },
    {
      "cell_type": "code",
      "metadata": {
        "id": "r47rRKUEzaLX"
      },
      "source": [
        "model_eval.loc['Random Forest', 'Score'] = accuracy_score(ypred, y_test)\r\n",
        "model_eval.loc['Logistic', 'Score'] = accuracy_score(ypred2, y_test)\r\n",
        "model_eval.loc['XGBoost', 'Score'] = accuracy_score(ypred3, y_test)"
      ],
      "execution_count": 28,
      "outputs": []
    },
    {
      "cell_type": "code",
      "metadata": {
        "colab": {
          "base_uri": "https://localhost:8080/",
          "height": 141
        },
        "id": "w0xmOOTN0hTO",
        "outputId": "3e0f3f7b-3f4c-44cf-b4f3-7b18e7d765d3"
      },
      "source": [
        "model_eval"
      ],
      "execution_count": 29,
      "outputs": [
        {
          "output_type": "execute_result",
          "data": {
            "text/html": [
              "<div>\n",
              "<style scoped>\n",
              "    .dataframe tbody tr th:only-of-type {\n",
              "        vertical-align: middle;\n",
              "    }\n",
              "\n",
              "    .dataframe tbody tr th {\n",
              "        vertical-align: top;\n",
              "    }\n",
              "\n",
              "    .dataframe thead th {\n",
              "        text-align: right;\n",
              "    }\n",
              "</style>\n",
              "<table border=\"1\" class=\"dataframe\">\n",
              "  <thead>\n",
              "    <tr style=\"text-align: right;\">\n",
              "      <th></th>\n",
              "      <th>Score</th>\n",
              "    </tr>\n",
              "  </thead>\n",
              "  <tbody>\n",
              "    <tr>\n",
              "      <th>Random Forest</th>\n",
              "      <td>0.833333</td>\n",
              "    </tr>\n",
              "    <tr>\n",
              "      <th>Logistic</th>\n",
              "      <td>0.84058</td>\n",
              "    </tr>\n",
              "    <tr>\n",
              "      <th>XGBoost</th>\n",
              "      <td>0.833333</td>\n",
              "    </tr>\n",
              "  </tbody>\n",
              "</table>\n",
              "</div>"
            ],
            "text/plain": [
              "                  Score\n",
              "Random Forest  0.833333\n",
              "Logistic        0.84058\n",
              "XGBoost        0.833333"
            ]
          },
          "metadata": {
            "tags": []
          },
          "execution_count": 29
        }
      ]
    },
    {
      "cell_type": "code",
      "metadata": {
        "colab": {
          "base_uri": "https://localhost:8080/"
        },
        "id": "f9oVakyd0o6z",
        "outputId": "6498e655-2aa7-4a73-935b-24fd74bec50f"
      },
      "source": [
        "import joblib\r\n",
        "joblib.dump(log,'model')"
      ],
      "execution_count": 30,
      "outputs": [
        {
          "output_type": "execute_result",
          "data": {
            "text/plain": [
              "['model']"
            ]
          },
          "metadata": {
            "tags": []
          },
          "execution_count": 30
        }
      ]
    },
    {
      "cell_type": "code",
      "metadata": {
        "colab": {
          "base_uri": "https://localhost:8080/"
        },
        "id": "zg8MmBJj1rjN",
        "outputId": "6613c147-0dfd-424f-8e55-6537e5dae83a"
      },
      "source": [
        "rf.feature_importances_"
      ],
      "execution_count": 31,
      "outputs": [
        {
          "output_type": "execute_result",
          "data": {
            "text/plain": [
              "array([5.85893601e-02, 6.53136151e-02, 6.94971809e-02, 5.48170863e-02,\n",
              "       6.45525502e-02, 5.80964360e-02, 8.47208145e-03, 8.00912928e-03,\n",
              "       2.59217499e-03, 1.29934182e-02, 1.32528549e-02, 7.68342140e-03,\n",
              "       7.58852941e-03, 6.27041048e-03, 3.47412323e-03, 2.66674355e-03,\n",
              "       5.40223147e-03, 7.49799661e-03, 4.77520925e-04, 7.31960659e-03,\n",
              "       2.45522414e-03, 8.02474657e-03, 9.48872805e-05, 8.76008313e-03,\n",
              "       7.96204371e-03, 7.52214549e-03, 3.16916899e-04, 5.51632292e-03,\n",
              "       1.10617383e-02, 7.29637568e-05, 2.58360999e-03, 3.30687021e-04,\n",
              "       8.50876711e-03, 9.46949416e-04, 1.77313847e-01, 1.77425424e-01,\n",
              "       4.51989555e-02, 3.34995760e-02, 7.35887840e-03, 9.30082508e-03,\n",
              "       8.63264107e-03, 4.14615881e-03, 8.40013705e-03])"
            ]
          },
          "metadata": {
            "tags": []
          },
          "execution_count": 31
        }
      ]
    },
    {
      "cell_type": "code",
      "metadata": {
        "id": "KAUhyGbl109M"
      },
      "source": [
        "weights = pd.DataFrame(rf.feature_importances_, index= X.columns.values)"
      ],
      "execution_count": 32,
      "outputs": []
    },
    {
      "cell_type": "code",
      "metadata": {
        "colab": {
          "base_uri": "https://localhost:8080/",
          "height": 1000
        },
        "id": "v6LomJVM2FrV",
        "outputId": "04433277-a463-405e-9166-6a6637daa550"
      },
      "source": [
        "weights"
      ],
      "execution_count": 33,
      "outputs": [
        {
          "output_type": "execute_result",
          "data": {
            "text/html": [
              "<div>\n",
              "<style scoped>\n",
              "    .dataframe tbody tr th:only-of-type {\n",
              "        vertical-align: middle;\n",
              "    }\n",
              "\n",
              "    .dataframe tbody tr th {\n",
              "        vertical-align: top;\n",
              "    }\n",
              "\n",
              "    .dataframe thead th {\n",
              "        text-align: right;\n",
              "    }\n",
              "</style>\n",
              "<table border=\"1\" class=\"dataframe\">\n",
              "  <thead>\n",
              "    <tr style=\"text-align: right;\">\n",
              "      <th></th>\n",
              "      <th>0</th>\n",
              "    </tr>\n",
              "  </thead>\n",
              "  <tbody>\n",
              "    <tr>\n",
              "      <th>C2</th>\n",
              "      <td>0.058589</td>\n",
              "    </tr>\n",
              "    <tr>\n",
              "      <th>C3</th>\n",
              "      <td>0.065314</td>\n",
              "    </tr>\n",
              "    <tr>\n",
              "      <th>C8</th>\n",
              "      <td>0.069497</td>\n",
              "    </tr>\n",
              "    <tr>\n",
              "      <th>C11</th>\n",
              "      <td>0.054817</td>\n",
              "    </tr>\n",
              "    <tr>\n",
              "      <th>C14</th>\n",
              "      <td>0.064553</td>\n",
              "    </tr>\n",
              "    <tr>\n",
              "      <th>C15</th>\n",
              "      <td>0.058096</td>\n",
              "    </tr>\n",
              "    <tr>\n",
              "      <th>C1_a</th>\n",
              "      <td>0.008472</td>\n",
              "    </tr>\n",
              "    <tr>\n",
              "      <th>C1_b</th>\n",
              "      <td>0.008009</td>\n",
              "    </tr>\n",
              "    <tr>\n",
              "      <th>C4_l</th>\n",
              "      <td>0.002592</td>\n",
              "    </tr>\n",
              "    <tr>\n",
              "      <th>C4_u</th>\n",
              "      <td>0.012993</td>\n",
              "    </tr>\n",
              "    <tr>\n",
              "      <th>C4_y</th>\n",
              "      <td>0.013253</td>\n",
              "    </tr>\n",
              "    <tr>\n",
              "      <th>C6_aa</th>\n",
              "      <td>0.007683</td>\n",
              "    </tr>\n",
              "    <tr>\n",
              "      <th>C6_c</th>\n",
              "      <td>0.007589</td>\n",
              "    </tr>\n",
              "    <tr>\n",
              "      <th>C6_cc</th>\n",
              "      <td>0.006270</td>\n",
              "    </tr>\n",
              "    <tr>\n",
              "      <th>C6_d</th>\n",
              "      <td>0.003474</td>\n",
              "    </tr>\n",
              "    <tr>\n",
              "      <th>C6_e</th>\n",
              "      <td>0.002667</td>\n",
              "    </tr>\n",
              "    <tr>\n",
              "      <th>C6_ff</th>\n",
              "      <td>0.005402</td>\n",
              "    </tr>\n",
              "    <tr>\n",
              "      <th>C6_i</th>\n",
              "      <td>0.007498</td>\n",
              "    </tr>\n",
              "    <tr>\n",
              "      <th>C6_j</th>\n",
              "      <td>0.000478</td>\n",
              "    </tr>\n",
              "    <tr>\n",
              "      <th>C6_k</th>\n",
              "      <td>0.007320</td>\n",
              "    </tr>\n",
              "    <tr>\n",
              "      <th>C6_m</th>\n",
              "      <td>0.002455</td>\n",
              "    </tr>\n",
              "    <tr>\n",
              "      <th>C6_q</th>\n",
              "      <td>0.008025</td>\n",
              "    </tr>\n",
              "    <tr>\n",
              "      <th>C6_r</th>\n",
              "      <td>0.000095</td>\n",
              "    </tr>\n",
              "    <tr>\n",
              "      <th>C6_w</th>\n",
              "      <td>0.008760</td>\n",
              "    </tr>\n",
              "    <tr>\n",
              "      <th>C6_x</th>\n",
              "      <td>0.007962</td>\n",
              "    </tr>\n",
              "    <tr>\n",
              "      <th>C7_bb</th>\n",
              "      <td>0.007522</td>\n",
              "    </tr>\n",
              "    <tr>\n",
              "      <th>C7_dd</th>\n",
              "      <td>0.000317</td>\n",
              "    </tr>\n",
              "    <tr>\n",
              "      <th>C7_ff</th>\n",
              "      <td>0.005516</td>\n",
              "    </tr>\n",
              "    <tr>\n",
              "      <th>C7_h</th>\n",
              "      <td>0.011062</td>\n",
              "    </tr>\n",
              "    <tr>\n",
              "      <th>C7_j</th>\n",
              "      <td>0.000073</td>\n",
              "    </tr>\n",
              "    <tr>\n",
              "      <th>C7_n</th>\n",
              "      <td>0.002584</td>\n",
              "    </tr>\n",
              "    <tr>\n",
              "      <th>C7_o</th>\n",
              "      <td>0.000331</td>\n",
              "    </tr>\n",
              "    <tr>\n",
              "      <th>C7_v</th>\n",
              "      <td>0.008509</td>\n",
              "    </tr>\n",
              "    <tr>\n",
              "      <th>C7_z</th>\n",
              "      <td>0.000947</td>\n",
              "    </tr>\n",
              "    <tr>\n",
              "      <th>C9_f</th>\n",
              "      <td>0.177314</td>\n",
              "    </tr>\n",
              "    <tr>\n",
              "      <th>C9_t</th>\n",
              "      <td>0.177425</td>\n",
              "    </tr>\n",
              "    <tr>\n",
              "      <th>C10_f</th>\n",
              "      <td>0.045199</td>\n",
              "    </tr>\n",
              "    <tr>\n",
              "      <th>C10_t</th>\n",
              "      <td>0.033500</td>\n",
              "    </tr>\n",
              "    <tr>\n",
              "      <th>C12_f</th>\n",
              "      <td>0.007359</td>\n",
              "    </tr>\n",
              "    <tr>\n",
              "      <th>C12_t</th>\n",
              "      <td>0.009301</td>\n",
              "    </tr>\n",
              "    <tr>\n",
              "      <th>C13_g</th>\n",
              "      <td>0.008633</td>\n",
              "    </tr>\n",
              "    <tr>\n",
              "      <th>C13_p</th>\n",
              "      <td>0.004146</td>\n",
              "    </tr>\n",
              "    <tr>\n",
              "      <th>C13_s</th>\n",
              "      <td>0.008400</td>\n",
              "    </tr>\n",
              "  </tbody>\n",
              "</table>\n",
              "</div>"
            ],
            "text/plain": [
              "              0\n",
              "C2     0.058589\n",
              "C3     0.065314\n",
              "C8     0.069497\n",
              "C11    0.054817\n",
              "C14    0.064553\n",
              "C15    0.058096\n",
              "C1_a   0.008472\n",
              "C1_b   0.008009\n",
              "C4_l   0.002592\n",
              "C4_u   0.012993\n",
              "C4_y   0.013253\n",
              "C6_aa  0.007683\n",
              "C6_c   0.007589\n",
              "C6_cc  0.006270\n",
              "C6_d   0.003474\n",
              "C6_e   0.002667\n",
              "C6_ff  0.005402\n",
              "C6_i   0.007498\n",
              "C6_j   0.000478\n",
              "C6_k   0.007320\n",
              "C6_m   0.002455\n",
              "C6_q   0.008025\n",
              "C6_r   0.000095\n",
              "C6_w   0.008760\n",
              "C6_x   0.007962\n",
              "C7_bb  0.007522\n",
              "C7_dd  0.000317\n",
              "C7_ff  0.005516\n",
              "C7_h   0.011062\n",
              "C7_j   0.000073\n",
              "C7_n   0.002584\n",
              "C7_o   0.000331\n",
              "C7_v   0.008509\n",
              "C7_z   0.000947\n",
              "C9_f   0.177314\n",
              "C9_t   0.177425\n",
              "C10_f  0.045199\n",
              "C10_t  0.033500\n",
              "C12_f  0.007359\n",
              "C12_t  0.009301\n",
              "C13_g  0.008633\n",
              "C13_p  0.004146\n",
              "C13_s  0.008400"
            ]
          },
          "metadata": {
            "tags": []
          },
          "execution_count": 33
        }
      ]
    },
    {
      "cell_type": "code",
      "metadata": {
        "id": "gnARlawv2Kc3"
      },
      "source": [
        ""
      ],
      "execution_count": null,
      "outputs": []
    }
  ]
}